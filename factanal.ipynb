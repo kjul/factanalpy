{
 "cells": [
  {
   "cell_type": "code",
   "execution_count": 1,
   "metadata": {},
   "outputs": [],
   "source": [
    "import pandas as pd\n",
    "import numpy as np"
   ]
  },
  {
   "cell_type": "code",
   "execution_count": 2,
   "metadata": {
    "collapsed": true,
    "jupyter": {
     "outputs_hidden": true
    }
   },
   "outputs": [
    {
     "name": "stderr",
     "output_type": "stream",
     "text": [
      "/home/julian/anaconda3/envs/myenv37/lib/python3.7/site-packages/rpy2/rinterface/__init__.py:146: RRuntimeWarning: During startup - \n",
      "  warnings.warn(x, RRuntimeWarning)\n",
      "/home/julian/anaconda3/envs/myenv37/lib/python3.7/site-packages/rpy2/rinterface/__init__.py:146: RRuntimeWarning: Warning messages:\n",
      "\n",
      "  warnings.warn(x, RRuntimeWarning)\n",
      "/home/julian/anaconda3/envs/myenv37/lib/python3.7/site-packages/rpy2/rinterface/__init__.py:146: RRuntimeWarning: 1: Setting LC_COLLATE failed, using \"C\" \n",
      "\n",
      "  warnings.warn(x, RRuntimeWarning)\n",
      "/home/julian/anaconda3/envs/myenv37/lib/python3.7/site-packages/rpy2/rinterface/__init__.py:146: RRuntimeWarning: 2: Setting LC_TIME failed, using \"C\" \n",
      "\n",
      "  warnings.warn(x, RRuntimeWarning)\n",
      "/home/julian/anaconda3/envs/myenv37/lib/python3.7/site-packages/rpy2/rinterface/__init__.py:146: RRuntimeWarning: 3: Setting LC_MESSAGES failed, using \"C\" \n",
      "\n",
      "  warnings.warn(x, RRuntimeWarning)\n",
      "/home/julian/anaconda3/envs/myenv37/lib/python3.7/site-packages/rpy2/rinterface/__init__.py:146: RRuntimeWarning: 4: Setting LC_MONETARY failed, using \"C\" \n",
      "\n",
      "  warnings.warn(x, RRuntimeWarning)\n",
      "/home/julian/anaconda3/envs/myenv37/lib/python3.7/site-packages/rpy2/rinterface/__init__.py:146: RRuntimeWarning: 5: Setting LC_MEASUREMENT failed, using \"C\" \n",
      "\n",
      "  warnings.warn(x, RRuntimeWarning)\n",
      "/home/julian/anaconda3/envs/myenv37/lib/python3.7/site-packages/rpy2/robjects/pandas2ri.py:17: FutureWarning: pandas.core.index is deprecated and will be removed in a future version.  The public classes are available in the top-level namespace.\n",
      "  from pandas.core.index import Index as PandasIndex\n"
     ]
    }
   ],
   "source": [
    "from factanalpy import factanalpy"
   ]
  },
  {
   "cell_type": "markdown",
   "metadata": {},
   "source": [
    "Hypothesentest muss noch korrigiert werden im Vergleich mit R output."
   ]
  },
  {
   "cell_type": "markdown",
   "metadata": {},
   "source": [
    "### FACTANAL FOR PYTHON"
   ]
  },
  {
   "cell_type": "code",
   "execution_count": 5,
   "metadata": {},
   "outputs": [],
   "source": [
    "df = pd.DataFrame({\"v1\": [1,1,1,1,1,1,1,1,1,1,3,3,3,3,3,4,5,6],\n",
    "                   \"v2\": [1,2,1,1,1,1,2,1,2,1,3,4,3,3,3,4,6,5],\n",
    "                   \"v3\": [3,3,3,3,3,1,1,1,1,1,1,1,1,1,1,5,4,6],\n",
    "                   \"v4\": [3,3,4,3,3,1,1,2,1,1,1,1,2,1,1,5,6,4],\n",
    "                   \"v5\": [1,1,1,1,1,3,3,3,3,22,1,1,1,322,1,6,4,5],\n",
    "                   \"v6\": [1,1,2,1,1,3,3,3,3,22,1,1,1,322,1,6,4,5],\n",
    "                   \"v7\": [1,1,4,1,1,3,3,3,3,3,1,2,1,1,1,6,4,5],\n",
    "                   \"v8\": [1,1,5,2,1,3,3,3,4,3,1,2,1,2,1,6,5,4]})"
   ]
  },
  {
   "cell_type": "code",
   "execution_count": 6,
   "metadata": {},
   "outputs": [
    {
     "data": {
      "text/plain": [
       "18"
      ]
     },
     "execution_count": 6,
     "metadata": {},
     "output_type": "execute_result"
    }
   ],
   "source": [
    "len(df)"
   ]
  },
  {
   "cell_type": "code",
   "execution_count": 10,
   "metadata": {},
   "outputs": [
    {
     "name": "stdout",
     "output_type": "stream",
     "text": [
      "Call:\n",
      "factanal(x, factors = 3)\n",
      "\n",
      "Uniquenesses:\n",
      "    v1     v2     v3     v4     v5     v6     v7     v8\n",
      " 0.005  0.113  0.582  0.578  0.005  0.005  0.075  0.005\n",
      "\n",
      "Loadings:\n",
      "         Factor1  Factor2  Factor3\n",
      "feature                           \n",
      "v1         0.187    0.974    0.109\n",
      "v2         0.210    0.915    0.078\n",
      "v3         0.419    0.463   -0.168\n",
      "v4         0.501    0.369   -0.188\n",
      "v5        -0.101    0.033    0.993\n",
      "v6        -0.100    0.032    0.993\n",
      "v7         0.921    0.248   -0.121\n",
      "v8         0.990    0.123    0.012\n",
      "\n",
      "                Factor1  Factor2  Factor3\n",
      "SS loadings       2.355    2.213    2.069\n",
      "Proportion Var    0.294    0.277    0.259\n",
      "Cumulative Var    0.294    0.571    0.830\n",
      "\n",
      "THIS PART IS WIP: The degrees of freedom for the model is 7 and the fit was 8.3205\n"
     ]
    }
   ],
   "source": [
    "res=factanalpy(df, 3, rotation=\"varimax\", return_dict=True)"
   ]
  },
  {
   "cell_type": "code",
   "execution_count": 11,
   "metadata": {},
   "outputs": [
    {
     "data": {
      "text/plain": [
       "dict_keys(['converged', 'loadings', 'uniquenesses', 'correlation', 'criteria', 'factors', 'dof', 'method', 'rotmat', 'STATISTIC', 'PVAL', 'n.obs', 'call'])"
      ]
     },
     "execution_count": 11,
     "metadata": {},
     "output_type": "execute_result"
    }
   ],
   "source": [
    "res.keys()"
   ]
  },
  {
   "cell_type": "code",
   "execution_count": null,
   "metadata": {},
   "outputs": [],
   "source": []
  },
  {
   "cell_type": "code",
   "execution_count": null,
   "metadata": {},
   "outputs": [],
   "source": []
  }
 ],
 "metadata": {
  "kernelspec": {
   "display_name": "Python 3",
   "language": "python",
   "name": "python3"
  },
  "language_info": {
   "codemirror_mode": {
    "name": "ipython",
    "version": 3
   },
   "file_extension": ".py",
   "mimetype": "text/x-python",
   "name": "python",
   "nbconvert_exporter": "python",
   "pygments_lexer": "ipython3",
   "version": "3.7.6"
  }
 },
 "nbformat": 4,
 "nbformat_minor": 4
}
